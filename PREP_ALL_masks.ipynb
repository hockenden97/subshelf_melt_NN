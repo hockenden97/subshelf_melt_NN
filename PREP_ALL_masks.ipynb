{
 "cells": [
  {
   "cell_type": "code",
   "execution_count": 1,
   "id": "2767819a-2090-47e4-8001-05c6b7e4d77f",
   "metadata": {},
   "outputs": [],
   "source": [
    "import numpy as np\n",
    "import xarray as xr\n",
    "import glob\n",
    "# To convert coordinates from lat, lon to polar stereo x,y \n",
    "from pyproj import Transformer\n",
    "# KD Tree for nearest neighbours\n",
    "from scipy.spatial import cKDTree\n"
   ]
  },
  {
   "cell_type": "code",
   "execution_count": 2,
   "id": "45101683-4a3e-472d-ac3e-298cc2065841",
   "metadata": {},
   "outputs": [],
   "source": [
    "import numpy as np\n",
    "import xarray as xr    \n",
    "#import cartopy.crs as ccrs\n",
    "#import matplotlib.ticker as mticker\n",
    "#import matplotlib.pyplot as plt\n",
    "#from cartopy.mpl.ticker import LongitudeFormatter, LatitudeFormatter\n",
    "# To interpolate NEMO data from Nico's mask files to the NEMO simulation grid \n",
    "from scipy.interpolate import griddata\n",
    "import itertools\n",
    "# To convert coordinates from lat, lon to polar stereo x,y \n",
    "from pyproj import Transformer\n",
    "# KD Tree for nearest neighbours\n",
    "from scipy.spatial import cKDTree\n",
    "# To play a sound when at the end of the code you want to run \n",
    "import os\n",
    "##os.system(\"printf '\\a'\")\n",
    "import time\n",
    "import glob"
   ]
  },
  {
   "cell_type": "code",
   "execution_count": 122,
   "id": "173495a3-98cf-472a-afca-6663d301fa4e",
   "metadata": {},
   "outputs": [],
   "source": [
    "nemo_run = 'isfru94'\n",
    "#nemo_run = 'OPM016'\n",
    "# Options are 'OPM016', 'OPM018', 'OPM021', 'ctrl94', 'isf94', 'isfru94'"
   ]
  },
  {
   "cell_type": "code",
   "execution_count": 123,
   "id": "1bc6a813-0c00-4716-a24c-0c9abfbc5f72",
   "metadata": {},
   "outputs": [],
   "source": [
    "# Set all the filepaths that will be required \n",
    "filepath_base = '/bettik/ockendeh/SCRIPTS/simpleNN_basal_melt/'\n",
    "# Basin numbers \n",
    "filepath_basin_nos = filepath_base + 'MASKS_PARAM/basin_raster_extrapolate_eANT025.nc'\n",
    "# CFG for NEMO 1 degree\n",
    "filepath_cfg_reduced_cav = filepath_base + 'MASKS_PARAM/domain_cfg_eANT025.L121_REDUCED_CAV.nc'\n"
   ]
  },
  {
   "cell_type": "code",
   "execution_count": 124,
   "id": "485c99be-8d38-4b4d-a1a7-2e48183fdaea",
   "metadata": {},
   "outputs": [
    {
     "name": "stdout",
     "output_type": "stream",
     "text": [
      "isfru94 /bettik/burgardc/DATA/SUMMER_PAPER/raw/CHRISTOPH_DATA/\n"
     ]
    }
   ],
   "source": [
    "# Set all the filepaths that will be required \n",
    "if nemo_run == 'OPM016':\n",
    "    filepath_nemo = '/bettik/burgardc/DATA/BASAL_MELT_PARAM/raw/NEMO_eORCA025.L121-OPM016/'\n",
    "    file_extension = '*gridT*.nc'\n",
    "    filepath_mesh_mask = filepath_nemo + 'eORCA025.L121-' + nemo_run + '_mesh_mask.nc'\n",
    "elif nemo_run == 'OPM018':\n",
    "    filepath_nemo = '/bettik/burgardc/DATA/BASAL_MELT_PARAM/raw/NEMO_eORCA025.L121-OPM018/'\n",
    "    file_extension = '*gridT*.nc'\n",
    "    filepath_mesh_mask = filepath_nemo + 'eORCA025.L121-' + nemo_run + '_mesh_mask.nc'\n",
    "elif nemo_run == 'OPM021':\n",
    "    filepath_nemo = '/bettik/burgardc/DATA/BASAL_MELT_PARAM/raw/NEMO_eORCA025.L121-OPM021/'\n",
    "    file_extension = '*gridT*.nc'\n",
    "    filepath_mesh_mask = filepath_nemo + 'eORCA025.L121-' + nemo_run + '_mesh_mask.nc'\n",
    "elif nemo_run == 'ctrl94':\n",
    "    filepath_nemo = '/bettik/burgardc/DATA/SUMMER_PAPER/raw/CHRISTOPH_DATA/'\n",
    "    filepath_extension = '*.nc'\n",
    "    filepath_mesh_mask = filepath_nemo + 'mesh_mask.nc'\n",
    "    filepath_cfg = filepath_nemo + 'domain_cfg_eANT025.L121.nc'\n",
    "elif nemo_run == 'isf94':\n",
    "    filepath_nemo = '/bettik/burgardc/DATA/SUMMER_PAPER/raw/CHRISTOPH_DATA/'\n",
    "    filepath_extension = '*.nc'\n",
    "    filepath_mesh_mask = filepath_nemo + 'mesh_mask.nc'\n",
    "    filepath_cfg = filepath_nemo + 'domain_cfg_eANT025.L121.nc'\n",
    "elif nemo_run == 'isfru94':\n",
    "    filepath_nemo = '/bettik/burgardc/DATA/SUMMER_PAPER/raw/CHRISTOPH_DATA/'\n",
    "    filepath_extension = '*.nc'\n",
    "    filepath_mesh_mask = filepath_nemo + 'mesh_mask.nc'\n",
    "    filepath_cfg = filepath_nemo + 'domain_cfg_eANT025.L121.nc'\n",
    "else:\n",
    "    filepath_pierre = []\n",
    "    file_extension = []\n",
    "    print('Help, I do not know this nemo_run')\n",
    "print(nemo_run, filepath_nemo)\n",
    "\n",
    "if len(glob.glob(filepath_mesh_mask)) != 1:\n",
    "    print('WARNING: mesh_mask is not in the specified location')"
   ]
  },
  {
   "cell_type": "code",
   "execution_count": 125,
   "id": "a2bac2a8-8484-4f99-a9f8-0b34900e0469",
   "metadata": {},
   "outputs": [],
   "source": [
    "#fp = '/bettik/burgardc/DATA/BASAL_MELT_PARAM/raw/NEMO_eORCA025.L121-OPM016/' + 'eORCA025.L121-' + 'OPM016' + '_mesh_mask.nc'\n",
    "#fpxr = xr.load_dataset(fp)\n",
    "#fpmm = xr.load_dataset(filepath_mesh_mask)\n",
    "#fpcfg = xr.load_dataset(filepath_nemo + 'domain_cfg_eANT025.L121.nc')"
   ]
  },
  {
   "cell_type": "code",
   "execution_count": 126,
   "id": "59421f65-aefe-4c6f-95f2-07cb6f8d0cc1",
   "metadata": {},
   "outputs": [],
   "source": [
    "#fpmm"
   ]
  },
  {
   "cell_type": "code",
   "execution_count": 127,
   "id": "38fe15ce-25ca-4a68-bc46-1c82414bc6af",
   "metadata": {},
   "outputs": [],
   "source": [
    "#fpxr"
   ]
  },
  {
   "cell_type": "code",
   "execution_count": 128,
   "id": "c7e7da59-9009-4188-aedb-ca31775be7dd",
   "metadata": {},
   "outputs": [],
   "source": [
    "#for i in list(fpmm.data_vars):\n",
    "#    if i not in list(fpcfg.data_vars):\n",
    "#        print(i)\n",
    "#print('FLIP')\n",
    "#for i in list(fpcfg.data_vars):\n",
    "#    if i not in list(fpmm.data_vars):\n",
    "#        print(i)"
   ]
  },
  {
   "cell_type": "code",
   "execution_count": 129,
   "id": "4ff1b2ae-3db8-47f9-9756-ec0e646a6cba",
   "metadata": {},
   "outputs": [
    {
     "name": "stdout",
     "output_type": "stream",
     "text": [
      "Squeezing the time_counter level in the cfg file\n",
      "Squeezing the time_counter level in the cfg file\n",
      "Loaded a separate CFG file in addition to the mesh mask\n"
     ]
    }
   ],
   "source": [
    "# Load in the basin numbers file \n",
    "ds0=xr.open_dataset(filepath_basin_nos)\n",
    "# Load in the domain geometry files \n",
    "dsREF=xr.open_dataset(filepath_mesh_mask)\n",
    "dsREDCAV=xr.open_dataset(filepath_cfg_reduced_cav)\n",
    "if 'time_counter' in list(dsREF.dims):\n",
    "    print('Squeezing the time_counter level in the cfg file')\n",
    "    dsREF = dsREF.squeeze('time_counter')\n",
    "if dsREF.dims['y'] == 1207:\n",
    "    print('Reducing y dimension')\n",
    "    min_lat = -52.2\n",
    "    y_trim = np.max(np.argwhere(dsREF.nav_lat[:,0].data <= min_lat))\n",
    "    # Take this slice \n",
    "    dsREF = dsREF.sel(y = slice(0,y_trim+1))\n",
    "    dsREF = dsREF.sel(x = slice(1,1441))\n",
    "dsREDCAV = dsREDCAV.squeeze('time_counter')\n",
    "\n",
    "if nemo_run in ('ctrl94', 'isf94', 'isfru94'):\n",
    "    dsCFG = xr.open_dataset(filepath_cfg)\n",
    "    if 'time_counter' in list(dsCFG.dims):\n",
    "        print('Squeezing the time_counter level in the cfg file')\n",
    "        dsCFG = dsCFG.squeeze('time_counter')\n",
    "    print('Loaded a separate CFG file in addition to the mesh mask')"
   ]
  },
  {
   "cell_type": "code",
   "execution_count": 130,
   "id": "5fbd02e7-f980-4683-9df4-e4baab80dc25",
   "metadata": {},
   "outputs": [],
   "source": [
    "# Create masks for the ocean, closed cavities, open cavities, grounded ice \n",
    "if nemo_run in ('ctrl94', 'isf94', 'isfru94'):\n",
    "    ocean           = xr.where(((dsREF.mbathy > 1.5) & (dsREF.misf > 0.5) & (dsREF.misf < 1.5)), 1, 0)\n",
    "    ocean_nan       = xr.where(((dsREF.mbathy > 1.5) & (dsREF.misf > 0.5) & (dsREF.misf < 1.5)), 1, np.nan)\n",
    "else:\n",
    "    ocean           = xr.where(((dsREF.misf>0.5)&(dsREF.misf<1.5)),1,0)\n",
    "    ocean_nan       = xr.where(((dsREF.misf>0.5)&(dsREF.misf<1.5)),1,np.nan)\n",
    "all_cavities        = xr.where((dsREF.misf>1.5),1,0)\n",
    "all_cavities_nan    = xr.where((dsREF.misf>1.5),1,np.nan)\n",
    "closed_cavities     = xr.where(((dsREF.misf>1.5)&(dsREDCAV.top_level<0.5)),1,0)\n",
    "closed_cavities_nan = xr.where(((dsREF.misf>1.5)&(dsREDCAV.top_level<0.5)),1,np.nan)\n",
    "open_cavities       = xr.where((dsREDCAV.top_level>1.5),1,0)\n",
    "open_cavities_nan   = xr.where((dsREDCAV.top_level>1.5),1,np.nan)\n",
    "open_cav_ocean      = xr.where((ocean > 0.5),1, 0) + xr.where((open_cavities > 0.5), 1, 0)\n",
    "open_cav_ocean_nan  = xr.where((open_cav_ocean == 1), 1, np.nan)\n",
    "grounded_ice        = xr.where((ocean+all_cavities) == 0, 1,0)\n",
    "grounded_ice_nan    = xr.where((ocean+all_cavities) == 0, 1,np.nan)\n",
    "# Create the field for the basin numbers \n",
    "basins_NEMO         = ds0.basin\n",
    "# Extract other useful paramaters\n",
    "areas = dsREDCAV.e1t*dsREDCAV.e2t\n",
    "if nemo_run in ('ctrl94', 'isf94', 'isfru94'):\n",
    "    bathymetry = dsCFG.bathy_metry\n",
    "    isf_draft = dsCFG.isf_draft\n",
    "else:\n",
    "    bathymetry = dsREF.bathy_metry\n",
    "    isf_draft = dsREF.isfdraft"
   ]
  },
  {
   "cell_type": "code",
   "execution_count": 131,
   "id": "ab60018b-8955-4264-85eb-829c6daa1800",
   "metadata": {},
   "outputs": [],
   "source": [
    "# Create files of distances and slopes\n",
    "# Create a pyproj transform to go from lat lon to polar stereo\n",
    "transformer = Transformer.from_crs(\"epsg:4326\",\"epsg:3031\")\n",
    "\n",
    "# Create a list of all the points in closed ice shelves \n",
    "CC_lat, CC_lon = dsREF.nav_lat.data[closed_cavities == 1], dsREF.nav_lon.data[closed_cavities == 1]\n",
    "CC_x, CC_y = transformer.transform(CC_lat, CC_lon)\n",
    "points_CC = np.array(list(zip(CC_x, CC_y)))\n",
    "# Create a list of all the grounded ice points\n",
    "GL_lat, GL_lon = dsREF.nav_lat.data[grounded_ice == 1], dsREF.nav_lon.data[grounded_ice == 1]\n",
    "GL_x, GL_y = transformer.transform(GL_lat, GL_lon)\n",
    "points_GL = np.array(list(zip(GL_x, GL_y)))\n",
    "# Create a list of all the open ocean points \n",
    "OO_lat, OO_lon = dsREF.nav_lat.data[ocean == 1], dsREF.nav_lon.data[ocean == 1]\n",
    "OO_x, OO_y = transformer.transform(OO_lat, OO_lon)\n",
    "points_OO = np.array(list(zip(OO_x, OO_y)))\n",
    "# Create a list of all the open ocean cavity points\n",
    "OC_lat, OC_lon = dsREF.nav_lat.data[open_cav_ocean == 1], dsREF.nav_lon.data[open_cav_ocean == 1]\n",
    "OC_x, OC_y = transformer.transform(OC_lat, OC_lon)\n",
    "points_OC = np.array(list(zip(OC_x, OC_y)))\n",
    "\n",
    "# Create the cKD Tree for the grounding line \n",
    "tree = cKDTree(points_GL)\n",
    "# Query the cKD Tree for the closed cavity points \n",
    "dist, index = tree.query(points_CC, k = 1)\n",
    "distances_GL = np.ones(dsREF.nav_lat.data.shape)*np.nan\n",
    "distances_GL[closed_cavities == 1] = dist\n",
    "\n",
    "# Create the cKD Tree for the open ocean\n",
    "tree = cKDTree(points_OO)\n",
    "# Query the cKD Tree for the closed cavity points \n",
    "dist, index = tree.query(points_CC, k = 1)\n",
    "distances_OO = np.ones(dsREF.nav_lat.data.shape)*np.nan\n",
    "distances_OO[closed_cavities == 1] = dist\n",
    "\n",
    "# Create the cKD Tree for the open ocean and cavities\n",
    "tree = cKDTree(points_OC)\n",
    "# Query the cKD Tree for the closed cavity points \n",
    "dist, index = tree.query(points_CC, k = 1)\n",
    "distances_OC = np.ones(dsREF.nav_lat.data.shape)*np.nan\n",
    "distances_OC[closed_cavities == 1] = dist"
   ]
  },
  {
   "cell_type": "code",
   "execution_count": 132,
   "id": "da3a80a1-162e-49a6-9e57-9298b4fc76f6",
   "metadata": {},
   "outputs": [
    {
     "name": "stdout",
     "output_type": "stream",
     "text": [
      "2230 out of 2230 Coordinates calculated\n",
      "2230 out of 2230 Added to mask\r"
     ]
    }
   ],
   "source": [
    "#print(len(np.unique(index)))\n",
    "nearest_lats = np.ones(len(np.unique(index)))\n",
    "nearest_lons = np.ones(len(np.unique(index)))\n",
    "for i in range(len(np.unique(index))):\n",
    "    nearest_lats[i], nearest_lons[i] = dsREF.nav_lat.values[open_cav_ocean == 1][np.unique(index)[i]], \\\n",
    "                                       dsREF.nav_lon.values[open_cav_ocean == 1][np.unique(index)[i]]\n",
    "    print(i+1, 'out of', len(np.unique(index)), 'Coordinates calculated', end = '\\r')\n",
    "for i in range(len(nearest_lats)):\n",
    "    if i == 0:\n",
    "        mask = (dsREF.nav_lat == nearest_lats[i]) & (dsREF.nav_lon == nearest_lons[i])\n",
    "        print('')\n",
    "    else:\n",
    "        mask_this_point = (dsREF.nav_lat == nearest_lats[i]) & (dsREF.nav_lon == nearest_lons[i])\n",
    "        mask = mask + mask_this_point\n",
    "    print(i+1, 'out of', len(np.unique(index)), 'Added to mask', end = '\\r')\n",
    "mask_TS_profiles = mask\n",
    "mask_TS_profiles_nan = xr.where(mask_TS_profiles == 1, 1, np.nan)"
   ]
  },
  {
   "cell_type": "code",
   "execution_count": 133,
   "id": "bc6f7cb5-22af-4014-8ef0-7eba89f7b796",
   "metadata": {},
   "outputs": [],
   "source": [
    "# Create a pyproj transform to go from lat lon to polar stereo\n",
    "transformer = Transformer.from_crs(\"epsg:4326\",\"epsg:3031\")\n",
    "\n",
    "# In order to calculate the slopes we need the distance between points, \n",
    "# and because the points are on the NEMO lat-lon grid we need to convert them to polar stereo the calculate the distances \n",
    "# Create a pyproj transformer to transform onto polar stereo\n",
    "lat, lon = dsREF.nav_lat.data, dsREF.nav_lon.data\n",
    "grid_x, grid_y = transformer.transform(lat, lon)\n",
    "# Use the np.roll function to move the data slightly \n",
    "shifted_x_p0 = (grid_x - np.roll(grid_x, shift = 1, axis = 0))\n",
    "shifted_x_m0 = (grid_x - np.roll(grid_x, shift = -1, axis = 0))\n",
    "shifted_x_p1 = (grid_x - np.roll(grid_x, shift = 1, axis = 1))\n",
    "shifted_x_m1 = (grid_x - np.roll(grid_x, shift = -1, axis = 1))\n",
    "shifted_y_p0 = (grid_y - np.roll(grid_y, shift = 1, axis = 0))\n",
    "shifted_y_m0 = (grid_y - np.roll(grid_y, shift = -1, axis = 0))\n",
    "shifted_y_p1 = (grid_y - np.roll(grid_y, shift = 1, axis = 1))\n",
    "shifted_y_m1 = (grid_y - np.roll(grid_y, shift = -1, axis = 1))\n",
    "# Because you need to calculate the hypotenuse distance you need x and y for both directions of shift \n",
    "shifted_p_lon = np.sqrt(shifted_x_p0**2 + shifted_y_p0**2) # lon\n",
    "shifted_m_lon = np.sqrt(shifted_x_m0**2 + shifted_y_m0**2) # lon \n",
    "shifted_p_lat = np.sqrt(shifted_x_p1**2 + shifted_y_p1**2) # lat\n",
    "shifted_m_lat = np.sqrt(shifted_x_m1**2 + shifted_y_m1**2) # lat"
   ]
  },
  {
   "cell_type": "code",
   "execution_count": 134,
   "id": "6b11ce2c-0736-4bea-809e-0f3707e892fb",
   "metadata": {},
   "outputs": [
    {
     "name": "stdout",
     "output_type": "stream",
     "text": [
      "Local meridional and zonal slopes\n"
     ]
    }
   ],
   "source": [
    "interface = isf_draft*all_cavities_nan\n",
    "interface_p_lon = ( + interface - np.roll(interface, shift = 1, axis = 0))/dsREF.e2t\n",
    "interface_m_lon = (- interface + np.roll(interface, shift = -1, axis = 0))/dsREF.e2t\n",
    "interface_p_lat = (+ interface - np.roll(interface, shift = 1, axis = 1))/dsREF.e1t\n",
    "interface_m_lat = (- interface + np.roll(interface, shift = -1, axis = 1))/dsREF.e1t\n",
    "bathymetry = bathymetry*all_cavities_nan\n",
    "bathymetry_p_lon = ( + bathymetry - np.roll(bathymetry, shift = 1, axis = 0))/dsREF.e2t\n",
    "bathymetry_m_lon = (- bathymetry + np.roll(bathymetry, shift = -1, axis = 0))/dsREF.e2t\n",
    "bathymetry_p_lat = (+ bathymetry - np.roll(bathymetry, shift = 1, axis = 1))/dsREF.e1t\n",
    "bathymetry_m_lat = (- bathymetry + np.roll(bathymetry, shift = -1, axis = 1))/dsREF.e1t\n",
    "# Take the mean to get the actual local slope (and account for bendy points)\n",
    "slope_isdraft_lon = np.nansum((interface_p_lon,interface_m_lon), axis = 0)/2\n",
    "slope_isdraft_lat = np.nansum((interface_p_lat,interface_m_lat), axis = 0)/2\n",
    "slope_bathy_lon = np.nansum((bathymetry_p_lon,bathymetry_m_lon), axis = 0)/2\n",
    "slope_bathy_lat = np.nansum((bathymetry_p_lat,bathymetry_m_lat), axis = 0)/2\n",
    "print('Local meridional and zonal slopes')"
   ]
  },
  {
   "cell_type": "code",
   "execution_count": 135,
   "id": "537200f2-6597-42ea-a061-3bcb0e34a393",
   "metadata": {},
   "outputs": [
    {
     "name": "stdout",
     "output_type": "stream",
     "text": [
      "If you have calculated the slopes properly, then there shouldn't be any nan values\n",
      "The following numbers should all be 0\n",
      "0 0 0 0\n"
     ]
    }
   ],
   "source": [
    "print('If you have calculated the slopes properly, then there shouldn\\'t be any nan values')\n",
    "print('The following numbers should all be 0')\n",
    "print(np.sum(np.isnan(slope_isdraft_lon)), np.sum(np.isnan(slope_isdraft_lat)), np.sum(np.isnan(slope_bathy_lon)), \\\n",
    "      np.sum(np.isnan(slope_bathy_lat)))"
   ]
  },
  {
   "cell_type": "code",
   "execution_count": 136,
   "id": "239ab306-9f94-49ee-b579-e3dd1a6520cf",
   "metadata": {},
   "outputs": [
    {
     "name": "stdout",
     "output_type": "stream",
     "text": [
      "No closed cavities in the following basins:\n",
      "[5, 10, 30, 33, 39, 43, 48, 53, 54, 96, 106, 114, 123, 131]\n"
     ]
    }
   ],
   "source": [
    "# To calculate the rotated slopes then we need to look at things on a basin by basin basisd\n",
    "direction_to_front = np.ones(dsREF.nav_lat.data.shape) * np.nan\n",
    "no_cav_basins = []\n",
    "#basin_no = 1\n",
    "for jj in range(len(np.unique(basins_NEMO))):\n",
    "    basin_no = jj+1\n",
    "    mask_basin = xr.where(basins_NEMO == basin_no, 1, np.nan)\n",
    "    x_basin = CC_x[basins_NEMO.values[closed_cavities_nan == 1] == basin_no]\n",
    "    y_basin = CC_y[basins_NEMO.values[closed_cavities_nan == 1] == basin_no]\n",
    "    if len(x_basin)>0:\n",
    "        mean_x_basin = np.mean(x_basin)\n",
    "        mean_y_basin = np.mean(y_basin)\n",
    "        nearest_points_i = index[basins_NEMO.values[closed_cavities_nan == 1] == basin_no]\n",
    "        nearest_x_i = np.ones(len(np.unique(nearest_points_i)))\n",
    "        nearest_y_i = np.ones(len(np.unique(nearest_points_i)))\n",
    "        for i in range(len(np.unique(nearest_points_i))):\n",
    "            nearest_x_i[i], nearest_y_i[i] = OC_x[np.unique(nearest_points_i)[i]], \\\n",
    "                                                   OC_y[np.unique(nearest_points_i)[i]]\n",
    "        mean_x_i = np.mean(nearest_x_i)\n",
    "        mean_y_i = np.mean(nearest_y_i)\n",
    "        direction = np.arctan2(mean_x_basin - mean_x_i, mean_y_basin - mean_y_i)\n",
    "    else:\n",
    "        direction = np.nan\n",
    "        no_cav_basins.append(basin_no)\n",
    "    #print(jj,len(x_basin), len(nearest_points_i),direction)\n",
    "    direction_to_front[mask_basin == 1] = np.ones(int(np.nansum(mask_basin.values))) * direction\n",
    "print('No closed cavities in the following basins:')\n",
    "print(no_cav_basins)"
   ]
  },
  {
   "cell_type": "code",
   "execution_count": 137,
   "id": "329d56e0-5395-4c16-a4f5-4f471039a53f",
   "metadata": {},
   "outputs": [
    {
     "name": "stdout",
     "output_type": "stream",
     "text": [
      "Rotated slopes\n"
     ]
    }
   ],
   "source": [
    "# Then rotate the calculated slopes to have the slope towards the ice front and the slope across the ice front \n",
    "slope_isdraft_hypot = np.sqrt(slope_isdraft_lon **2 + slope_isdraft_lat **2)\n",
    "angle_isdraft = np.arctan2(slope_isdraft_lon,slope_isdraft_lat)- direction_to_front\n",
    "slope_is_across_front = slope_isdraft_hypot * np.sin(angle_isdraft)\n",
    "slope_is_towards_front = slope_isdraft_hypot * np.cos(angle_isdraft)\n",
    "slope_bathy_hypot = np.sqrt(slope_bathy_lon **2 + slope_bathy_lat **2)\n",
    "angle_bathy = np.arctan2(slope_bathy_lon,slope_bathy_lat)- direction_to_front\n",
    "slope_ba_across_front = slope_bathy_hypot * np.sin(angle_bathy)\n",
    "slope_ba_towards_front = slope_bathy_hypot * np.cos(angle_bathy)\n",
    "print('Rotated slopes')"
   ]
  },
  {
   "cell_type": "code",
   "execution_count": 138,
   "id": "5d68237d-2f56-482a-8b67-c5f11ee78bd9",
   "metadata": {},
   "outputs": [
    {
     "name": "stdout",
     "output_type": "stream",
     "text": [
      "If you have calculated the slopes properly, then there shouldn't be any nan values\n",
      "The following numbers should all be 0\n",
      "0 0 0 0\n"
     ]
    }
   ],
   "source": [
    "print('If you have calculated the slopes properly, then there shouldn\\'t be any nan values')\n",
    "print('The following numbers should all be 0')\n",
    "print(np.sum(np.isnan(slope_is_across_front[closed_cavities == 1])), np.sum(np.isnan(slope_is_towards_front[closed_cavities == 1])), \n",
    "      np.sum(np.isnan(slope_ba_across_front[closed_cavities == 1])), np.sum(np.isnan(slope_ba_towards_front[closed_cavities == 1])))"
   ]
  },
  {
   "cell_type": "code",
   "execution_count": 139,
   "id": "9a9546e5-24c8-43cc-a434-421e5c0e9845",
   "metadata": {},
   "outputs": [],
   "source": [
    "filepath_mask = filepath_base +  'AIAI_data/Masks/'+nemo_run+'_'+'geometric_masks.nc'\n",
    "# A geometry file with the required variables for the NN \n",
    "filepath_geomvars = filepath_base + 'AIAI_data/Masks/'+nemo_run+'_'+'geom_vars.nc'"
   ]
  },
  {
   "cell_type": "code",
   "execution_count": 140,
   "id": "96fd8a4b-82ae-46e8-93dc-062bff234ae1",
   "metadata": {},
   "outputs": [
    {
     "data": {
      "text/plain": [
       "'/bettik/ockendeh/SCRIPTS/simpleNN_basal_melt/AIAI_data/Masks/isfru94_geometric_masks.nc'"
      ]
     },
     "execution_count": 140,
     "metadata": {},
     "output_type": "execute_result"
    }
   ],
   "source": [
    "filepath_mask"
   ]
  },
  {
   "cell_type": "code",
   "execution_count": 141,
   "id": "f6cef3ac-4c3c-405f-9743-99f152939c88",
   "metadata": {},
   "outputs": [
    {
     "name": "stdout",
     "output_type": "stream",
     "text": [
      "You have saved the following file\n",
      "/bettik/ockendeh/SCRIPTS/simpleNN_basal_melt/AIAI_data/Masks/isfru94_geometric_masks.nc\n"
     ]
    }
   ],
   "source": [
    "# Save one file for the \n",
    "ds = xr.Dataset(\n",
    "        data_vars=dict(\n",
    "            ocean_only              = ([\"y\", \"x\"], ocean.data),\n",
    "            ocean_only_nan          = ([\"y\", \"x\"], ocean_nan.data),\n",
    "            all_cavities            = ([\"y\", \"x\"], all_cavities.data),\n",
    "            all_cavities_nan        = ([\"y\", \"x\"], all_cavities_nan.data),\n",
    "            closed_cavities         = ([\"y\", \"x\"], closed_cavities.data),\n",
    "            closed_cavities_nan     = ([\"y\", \"x\"], closed_cavities_nan.data),\n",
    "            open_cavities           = ([\"y\", \"x\"], open_cavities.data),\n",
    "            open_cavities_nan       = ([\"y\", \"x\"], open_cavities_nan.data),\n",
    "            ocean_open_cavities     = ([\"y\", \"x\"], open_cav_ocean.data),\n",
    "            ocean_open_cavities_nan = ([\"y\", \"x\"], open_cav_ocean.data),\n",
    "            grounded_ice            = ([\"y\", \"x\"], grounded_ice.data),\n",
    "            grounded_ice_nan        = ([\"y\", \"x\"], grounded_ice_nan.data),    \n",
    "            basins_NEMO             = ([\"y\", \"x\"], basins_NEMO.data),\n",
    "            mask_TS_profiles        = ([\"y\", \"x\"], mask_TS_profiles.data),\n",
    "            mask_TS_profiles_nan    = ([\"y\", \"x\"], mask_TS_profiles_nan.data),\n",
    "            ),\n",
    "        coords=dict(\n",
    "            lon=((\"y\", \"x\"), dsREF.nav_lon.data),\n",
    "            lat=((\"y\", \"x\"), dsREF.nav_lat.data),    ),\n",
    "        attrs=dict(description=\"Masks for grounded ice, floating ice and open ocean\", \n",
    "                   simulation_run = 'Christoph_CFG'),\n",
    "    )\n",
    "ds.to_netcdf(filepath_mask)\n",
    "print('You have saved the following file')\n",
    "print(filepath_mask)"
   ]
  },
  {
   "cell_type": "code",
   "execution_count": 142,
   "id": "219a49ad-9f05-4830-867f-8940dbb69058",
   "metadata": {},
   "outputs": [
    {
     "name": "stdout",
     "output_type": "stream",
     "text": [
      "You have saved the following file\n",
      "/bettik/ockendeh/SCRIPTS/simpleNN_basal_melt/AIAI_data/Masks/isfru94_geometric_masks.nc\n"
     ]
    }
   ],
   "source": [
    "# Save one file for the \n",
    "ds = xr.Dataset(\n",
    "        data_vars=dict(\n",
    "            ocean_only              = ([\"y_grid_T\", \"x_grid_T\"], ocean.data),\n",
    "            ocean_only_nan          = ([\"y_grid_T\", \"x_grid_T\"], ocean_nan.data),\n",
    "            all_cavities            = ([\"y_grid_T\", \"x_grid_T\"], all_cavities.data),\n",
    "            all_cavities_nan        = ([\"y_grid_T\", \"x_grid_T\"], all_cavities_nan.data),\n",
    "            closed_cavities         = ([\"y_grid_T\", \"x_grid_T\"], closed_cavities.data),\n",
    "            closed_cavities_nan     = ([\"y_grid_T\", \"x_grid_T\"], closed_cavities_nan.data),\n",
    "            open_cavities           = ([\"y_grid_T\", \"x_grid_T\"], open_cavities.data),\n",
    "            open_cavities_nan       = ([\"y_grid_T\", \"x_grid_T\"], open_cavities_nan.data),\n",
    "            ocean_open_cavities     = ([\"y_grid_T\", \"x_grid_T\"], open_cav_ocean.data),\n",
    "            ocean_open_cavities_nan = ([\"y_grid_T\", \"x_grid_T\"], open_cav_ocean.data),\n",
    "            grounded_ice            = ([\"y_grid_T\", \"x_grid_T\"], grounded_ice.data),\n",
    "            grounded_ice_nan        = ([\"y_grid_T\", \"x_grid_T\"], grounded_ice_nan.data),    \n",
    "            basins_NEMO             = ([\"y_grid_T\", \"x_grid_T\"], basins_NEMO.data),\n",
    "            mask_TS_profiles        = ([\"y_grid_T\", \"x_grid_T\"], mask_TS_profiles.data),\n",
    "            mask_TS_profiles_nan    = ([\"y_grid_T\", \"x_grid_T\"], mask_TS_profiles_nan.data),\n",
    "            ),\n",
    "        coords=dict(\n",
    "            lon=((\"y_grid_T\", \"x_grid_T\"), dsREF.nav_lon.data),\n",
    "            lat=((\"y_grid_T\", \"x_grid_T\"), dsREF.nav_lat.data),    ),\n",
    "        attrs=dict(description=\"Masks for grounded ice, floating ice and open ocean\", \n",
    "                   simulation_run = 'Christoph_CFG'),\n",
    "    )\n",
    "ds.to_netcdf(filepath_mask)\n",
    "print('You have saved the following file')\n",
    "print(filepath_mask)"
   ]
  },
  {
   "cell_type": "code",
   "execution_count": 143,
   "id": "bfce06b6-9408-4bd3-a4f0-440366ac0756",
   "metadata": {},
   "outputs": [
    {
     "name": "stdout",
     "output_type": "stream",
     "text": [
      "You have saved the following file\n",
      "/bettik/ockendeh/SCRIPTS/simpleNN_basal_melt/AIAI_data/Masks/isfru94_geom_vars.nc\n"
     ]
    }
   ],
   "source": [
    "# And then save these to file \n",
    "ds = xr.Dataset(\n",
    "            data_vars=dict(\n",
    "                areas                  = ([\"y\", \"x\"], areas.data),\n",
    "                bathymetry             = ([\"y\", \"x\"], bathymetry.data),\n",
    "                isf_draft              = ([\"y\", \"x\"], isf_draft.data),\n",
    "                distances_GL           = ([\"y\", \"x\"], distances_GL.data),\n",
    "                distances_OO           = ([\"y\", \"x\"], distances_OO.data),\n",
    "                distances_OC           = ([\"y\", \"x\"], distances_OC.data),\n",
    "                slope_isdraft_lon      = ([\"y\", \"x\"], slope_isdraft_lon.data),\n",
    "                slope_isdraft_lat      = ([\"y\", \"x\"], slope_isdraft_lat.data),\n",
    "                slope_bathy_lon        = ([\"y\", \"x\"], slope_bathy_lon.data),\n",
    "                slope_bathy_lat        = ([\"y\", \"x\"], slope_bathy_lat.data),\n",
    "                slope_is_across_front  = ([\"y\", \"x\"], slope_is_across_front.data),\n",
    "                slope_is_towards_front = ([\"y\", \"x\"], slope_is_towards_front.data),\n",
    "                slope_ba_across_front  = ([\"y\", \"x\"], slope_ba_across_front.data),\n",
    "                slope_ba_towards_front = ([\"y\", \"x\"], slope_ba_towards_front.data),\n",
    "                ),\n",
    "            coords=dict(\n",
    "                lon=((\"y\", \"x\"), dsREF.nav_lon.data),\n",
    "                lat=((\"y\", \"x\"), dsREF.nav_lat.data),    ),\n",
    "            attrs=dict(description = \"Required geometry variables for this geometry\", \n",
    "                       simulation_run = 'Christoph_CFG'),\n",
    "                )\n",
    "ds.to_netcdf(filepath_geomvars)\n",
    "print('You have saved the following file')\n",
    "print(filepath_geomvars)"
   ]
  },
  {
   "cell_type": "code",
   "execution_count": null,
   "id": "95aacc8a-a407-4366-b936-3ce81270c237",
   "metadata": {},
   "outputs": [],
   "source": []
  }
 ],
 "metadata": {
  "kernelspec": {
   "display_name": "nnets_py38",
   "language": "python",
   "name": "nnets_py38"
  },
  "language_info": {
   "codemirror_mode": {
    "name": "ipython",
    "version": 3
   },
   "file_extension": ".py",
   "mimetype": "text/x-python",
   "name": "python",
   "nbconvert_exporter": "python",
   "pygments_lexer": "ipython3",
   "version": "3.12.2"
  }
 },
 "nbformat": 4,
 "nbformat_minor": 5
}
