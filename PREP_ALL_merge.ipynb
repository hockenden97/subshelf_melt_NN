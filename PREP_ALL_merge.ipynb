{
 "cells": [
  {
   "cell_type": "code",
   "execution_count": 2,
   "id": "78982ee1-a9d6-4322-a511-46a110dc51e6",
   "metadata": {},
   "outputs": [],
   "source": [
    "import numpy as np\n",
    "import xarray as xr    \n",
    "import glob\n",
    "import pandas as pd\n",
    "import itertools\n",
    "import sklearn\n",
    "import os\n",
    "import sys"
   ]
  },
  {
   "cell_type": "code",
   "execution_count": 3,
   "id": "5c6a5adc-f3ce-4a25-8afc-0800c675296b",
   "metadata": {},
   "outputs": [],
   "source": [
    "def load_geom_files(filepath_geomvars, filepath_mask, join_ice_shelves = False):\n",
    "    geoms = xr.open_dataset(filepath_geomvars)\n",
    "    masks = xr.open_dataset(filepath_mask)\n",
    "    print('You have loaded:', filepath_geomvars)\n",
    "    print('You have loaded:', filepath_mask)\n",
    "    bN_00 = masks.basins_NEMO\n",
    "    # Some ice shelves which should potentially be joined together into one bigger ice shelf\n",
    "    if join_ice_shelves == True:\n",
    "        # Dotson and Crosson?\n",
    "        #basins_NEMO[basins_NEMO == 101] = 129\n",
    "        # Abbot Ice Shelf\n",
    "        bN_01 = xr.where(bN_00 == 109, 143, bN_00)\n",
    "        # George VI\n",
    "        bN_02 = xr.where(bN_01 == 112, 125, bN_01)\n",
    "        # Lambert \n",
    "        basins_merged = xr.where(bN_02 == 20, 103, bN_02)\n",
    "        print('Ice shelves joined, as requested')\n",
    "    else:\n",
    "        basins_merged = bN_00    \n",
    "    return masks, basins_merged, geoms\n",
    "\n",
    "# Create a function to read in the simulation runs and convert them to pd dataframes\n",
    "def create_df_total(nemo_run, year, month, verbose = 0):\n",
    "    ''' This function reads in a .nc xarray file, and adds in the mean and std of T and S '''\n",
    "    ''' and the slope parameters, and then saves these as a pandas dataframe to be merged '''\n",
    "    ''' Verbose = 0, 1, >1                                                                '''\n",
    "    filepath_ij = filepath_nn_input + nemo_run + '_y' + year + '.nc'\n",
    "    if verbose == 1:\n",
    "        print('You have loaded:', filepath_ij)\n",
    "    data = xr.open_dataset(filepath_ij)\n",
    "    if data.dims['y'] > 439:\n",
    "        min_lat = -52.2\n",
    "        y_trim = np.max(np.argwhere(data.lat[:,0].data <= min_lat))\n",
    "        # Take this slice \n",
    "        data = data.sel(y = slice(0,y_trim+1))\n",
    "        data = data.sel(x = slice(1,1441))\n",
    "    mean_T = np.ones(basins_merged.shape)*np.nan\n",
    "    mean_S = np.ones(basins_merged.shape)*np.nan\n",
    "    std_T = np.ones(basins_merged.shape)*np.nan\n",
    "    std_S = np.ones(basins_merged.shape)*np.nan\n",
    "    for j in basin_nos:\n",
    "        mask_basin = basins_merged*masks.closed_cavities_nan == j\n",
    "        if np.sum(np.isnan(data.temperature_prop.data[mask_basin])) == 0:\n",
    "            mean_T[mask_basin] = np.ones(len(data.temperature_prop.data[mask_basin])) * np.nanmean(data.temperature_prop.data[mask_basin])\n",
    "            mean_S[mask_basin] = np.ones(len(data.temperature_prop.data[mask_basin])) * np.nanmean(data.salinity_prop.data[mask_basin])\n",
    "            std_T[mask_basin] = np.ones(len(data.temperature_prop.data[mask_basin])) * np.nanstd(data.temperature_prop.data[mask_basin])\n",
    "            std_S[mask_basin] = np.ones(len(data.temperature_prop.data[mask_basin])) * np.nanstd(data.salinity_prop.data[mask_basin])\n",
    "        else:\n",
    "            if verbose > 1:\n",
    "                print(np.sum(np.isnan(data.temperature_prop.data[mask_basin])), 'nan cells in basin', j)\n",
    "            if np.sum(~np.isnan(data.temperature_prop.data[mask_basin])) > 0:\n",
    "                mean_T[mask_basin] = np.ones(len(data.temperature_prop.data[mask_basin])) * np.nanmean(data.temperature_prop.data[mask_basin])\n",
    "                mean_S[mask_basin] = np.ones(len(data.temperature_prop.data[mask_basin])) * np.nanmean(data.salinity_prop.data[mask_basin])\n",
    "                std_T[mask_basin] = np.ones(len(data.temperature_prop.data[mask_basin])) * np.nanstd(data.temperature_prop.data[mask_basin])\n",
    "                std_S[mask_basin] = np.ones(len(data.temperature_prop.data[mask_basin])) * np.nanstd(data.salinity_prop.data[mask_basin])\n",
    "    year_label = []\n",
    "    month_label = []\n",
    "    for i in range(len(std_S[masks.closed_cavities == 1])):\n",
    "        year_label.append(year)\n",
    "        month_label.append(month)\n",
    "    # Because Christoph's simulations report melting as positive and refreezing as negative, flip these simulations\n",
    "    if nemo_run in ('ctrl94', 'isf94', 'isfru94'):\n",
    "        flip_melt = -1\n",
    "    else:\n",
    "        flip_melt = 1\n",
    "    df_total = pd.DataFrame({\n",
    "                            'lat': data.lat.data[masks.closed_cavities == 1], \n",
    "                            'lon': data.lon.data[masks.closed_cavities == 1], \n",
    "                            'temperature_prop': data.temperature_prop.data[masks.closed_cavities == 1],\n",
    "                            'salinity_prop': data.salinity_prop.data[masks.closed_cavities ==1],\n",
    "                            'melt_m_ice_per_y': data.melt_ice_per_yr.data[masks.closed_cavities == 1] * flip_melt,\n",
    "                            'mean_T': mean_T[masks.closed_cavities == 1],\n",
    "                            'mean_S': mean_S[masks.closed_cavities == 1],\n",
    "                            'std_T': std_T[masks.closed_cavities == 1],\n",
    "                            'std_S': std_S[masks.closed_cavities == 1], \n",
    "                            'year': year_label, \n",
    "                            'month': month_label, \n",
    "                            'basins_NEMO': basins_merged.data[masks.closed_cavities == 1],\n",
    "                            'distances_GL': geoms.distances_GL.data[masks.closed_cavities == 1],\n",
    "                            'distances_OO': geoms.distances_OO.data[masks.closed_cavities == 1],\n",
    "                            'distances_OC': geoms.distances_OC.data[masks.closed_cavities == 1],\n",
    "                            'corrected_isdraft': geoms.isf_draft.data[masks.closed_cavities ==1],\n",
    "                            'area': geoms.areas.data[masks.closed_cavities == 1],\n",
    "                            'bathymetry': geoms.bathymetry.data[masks.closed_cavities == 1],\n",
    "                            'slope_is_lon': geoms.slope_isdraft_lon.data[masks.closed_cavities == 1],\n",
    "                            'slope_is_lat': geoms.slope_isdraft_lat.data[masks.closed_cavities == 1],\n",
    "                            'slope_ba_lon': geoms.slope_bathy_lon.data[masks.closed_cavities == 1],\n",
    "                            'slope_ba_lat': geoms.slope_bathy_lat.data[masks.closed_cavities == 1],\n",
    "                            'slope_is_across_front': geoms.slope_is_across_front.data[masks.closed_cavities == 1],\n",
    "                            'slope_is_towards_front': geoms.slope_is_towards_front.data[masks.closed_cavities == 1],\n",
    "                            'slope_ba_across_front': geoms.slope_ba_across_front.data[masks.closed_cavities == 1],\n",
    "                            'slope_ba_towards_front': geoms.slope_ba_towards_front.data[masks.closed_cavities == 1],\n",
    "                            })\n",
    "    if verbose > 1:\n",
    "        print(np.sum(np.isnan(df_total['temperature_prop'])), 'nan values removed')\n",
    "    df_total2 = df_total[~np.isnan(df_total['temperature_prop'])]\n",
    "    return df_total2"
   ]
  },
  {
   "cell_type": "code",
   "execution_count": 4,
   "id": "da5e3958-8d3c-4cf5-9190-7ad14ffb3715",
   "metadata": {},
   "outputs": [
    {
     "name": "stdout",
     "output_type": "stream",
     "text": [
      "Nemo run: OPM016\n"
     ]
    }
   ],
   "source": [
    "# Set the nemo_run\n",
    "nemo_run = str(sys.argv[1])\n",
    "nemo_run = 'OPM016'\n",
    "print('Nemo run:', nemo_run)"
   ]
  },
  {
   "cell_type": "code",
   "execution_count": 5,
   "id": "f81468c0-8988-4188-ad1e-5d995f58e32d",
   "metadata": {},
   "outputs": [],
   "source": [
    "filepath_base = '/bettik/ockendeh/SCRIPTS/simpleNN_basal_melt/'\n",
    "filepath_nn_input = filepath_base + \"data/processing_ho/nn_input_\"\n",
    "\n",
    "# Set where you would like to save the data \n",
    "data_out_fp = '/bettik/ockendeh/SCRIPTS/simpleNN_basal_melt/AIAI_data/Training_data/'\n",
    "# Create a dataframe with all the data which is saved in this location\n",
    "intermediate_filepath = data_out_fp + nemo_run + '_' + 'whole_dataset' + '_' + 'not_yet_normalised.csv'"
   ]
  },
  {
   "cell_type": "code",
   "execution_count": 6,
   "id": "daa350b8-f4da-4474-9770-4c7fd80adcc2",
   "metadata": {},
   "outputs": [
    {
     "name": "stdout",
     "output_type": "stream",
     "text": [
      "There are 29 datasets available\n"
     ]
    }
   ],
   "source": [
    "# Check which simulation datasets are available to look at \n",
    "processed_files = glob.glob(filepath_nn_input + nemo_run + '*y*.nc')\n",
    "print('There are', len(processed_files), 'datasets available')"
   ]
  },
  {
   "cell_type": "code",
   "execution_count": 7,
   "id": "2d2dcd6a-7096-44b5-bc55-37d2b3783f47",
   "metadata": {},
   "outputs": [
    {
     "data": {
      "text/plain": [
       "['/bettik/ockendeh/SCRIPTS/simpleNN_basal_melt/data/processing_ho/nn_input_OPM016_y2006.nc',\n",
       " '/bettik/ockendeh/SCRIPTS/simpleNN_basal_melt/data/processing_ho/nn_input_OPM016_y1990.nc',\n",
       " '/bettik/ockendeh/SCRIPTS/simpleNN_basal_melt/data/processing_ho/nn_input_OPM016_y1984.nc',\n",
       " '/bettik/ockendeh/SCRIPTS/simpleNN_basal_melt/data/processing_ho/nn_input_OPM016_y1992.nc',\n",
       " '/bettik/ockendeh/SCRIPTS/simpleNN_basal_melt/data/processing_ho/nn_input_OPM016_y2002.nc',\n",
       " '/bettik/ockendeh/SCRIPTS/simpleNN_basal_melt/data/processing_ho/nn_input_OPM016_y1986.nc',\n",
       " '/bettik/ockendeh/SCRIPTS/simpleNN_basal_melt/data/processing_ho/nn_input_OPM016_y1994.nc',\n",
       " '/bettik/ockendeh/SCRIPTS/simpleNN_basal_melt/data/processing_ho/nn_input_OPM016_y1993.nc',\n",
       " '/bettik/ockendeh/SCRIPTS/simpleNN_basal_melt/data/processing_ho/nn_input_OPM016_y1996.nc',\n",
       " '/bettik/ockendeh/SCRIPTS/simpleNN_basal_melt/data/processing_ho/nn_input_OPM016_y1981.nc',\n",
       " '/bettik/ockendeh/SCRIPTS/simpleNN_basal_melt/data/processing_ho/nn_input_OPM016_y1995.nc',\n",
       " '/bettik/ockendeh/SCRIPTS/simpleNN_basal_melt/data/processing_ho/nn_input_OPM016_y1997.nc',\n",
       " '/bettik/ockendeh/SCRIPTS/simpleNN_basal_melt/data/processing_ho/nn_input_OPM016_y1980.nc',\n",
       " '/bettik/ockendeh/SCRIPTS/simpleNN_basal_melt/data/processing_ho/nn_input_OPM016_y1989.nc',\n",
       " '/bettik/ockendeh/SCRIPTS/simpleNN_basal_melt/data/processing_ho/nn_input_OPM016_y1988.nc',\n",
       " '/bettik/ockendeh/SCRIPTS/simpleNN_basal_melt/data/processing_ho/nn_input_OPM016_y1998.nc',\n",
       " '/bettik/ockendeh/SCRIPTS/simpleNN_basal_melt/data/processing_ho/nn_input_OPM016_y2000.nc',\n",
       " '/bettik/ockendeh/SCRIPTS/simpleNN_basal_melt/data/processing_ho/nn_input_OPM016_y1991.nc',\n",
       " '/bettik/ockendeh/SCRIPTS/simpleNN_basal_melt/data/processing_ho/nn_input_OPM016_y2004.nc',\n",
       " '/bettik/ockendeh/SCRIPTS/simpleNN_basal_melt/data/processing_ho/nn_input_OPM016_y2003.nc',\n",
       " '/bettik/ockendeh/SCRIPTS/simpleNN_basal_melt/data/processing_ho/nn_input_OPM016_y1985.nc',\n",
       " '/bettik/ockendeh/SCRIPTS/simpleNN_basal_melt/data/processing_ho/nn_input_OPM016_y1982.nc',\n",
       " '/bettik/ockendeh/SCRIPTS/simpleNN_basal_melt/data/processing_ho/nn_input_OPM016_y2005.nc',\n",
       " '/bettik/ockendeh/SCRIPTS/simpleNN_basal_melt/data/processing_ho/nn_input_OPM016_y2008.nc',\n",
       " '/bettik/ockendeh/SCRIPTS/simpleNN_basal_melt/data/processing_ho/nn_input_OPM016_y1999.nc',\n",
       " '/bettik/ockendeh/SCRIPTS/simpleNN_basal_melt/data/processing_ho/nn_input_OPM016_y2001.nc',\n",
       " '/bettik/ockendeh/SCRIPTS/simpleNN_basal_melt/data/processing_ho/nn_input_OPM016_y2007.nc',\n",
       " '/bettik/ockendeh/SCRIPTS/simpleNN_basal_melt/data/processing_ho/nn_input_OPM016_y1983.nc',\n",
       " '/bettik/ockendeh/SCRIPTS/simpleNN_basal_melt/data/processing_ho/nn_input_OPM016_y1987.nc']"
      ]
     },
     "execution_count": 7,
     "metadata": {},
     "output_type": "execute_result"
    }
   ],
   "source": [
    "processed_files"
   ]
  },
  {
   "cell_type": "code",
   "execution_count": 8,
   "id": "c9f35daf-c415-4832-8267-71a327df4b6b",
   "metadata": {},
   "outputs": [
    {
     "name": "stdout",
     "output_type": "stream",
     "text": [
      "['1980', '1981', '1982', '1983', '1984', '1985', '1986', '1987', '1988', '1989', '1990', '1991', '1992', '1993', '1994', '1995', '1996', '1997', '1998', '1999', '2000', '2001', '2002', '2003', '2004', '2005', '2006', '2007', '2008']\n",
      "29 files processed\n"
     ]
    }
   ],
   "source": [
    "years_run = []\n",
    "for i in range(len(processed_files)):\n",
    "    year = (processed_files[i].split(os.path.sep)[-1].split('_')[-1].split('.')[0].split('y')[-1])\n",
    "    years_run.append(year)\n",
    "years_run.sort()\n",
    "print(years_run)\n",
    "print(len(years_run), 'files processed') "
   ]
  },
  {
   "cell_type": "code",
   "execution_count": 9,
   "id": "0d3d4811-6c80-46b1-9f28-5566af0257b9",
   "metadata": {},
   "outputs": [
    {
     "name": "stdout",
     "output_type": "stream",
     "text": [
      "You have loaded: /bettik/ockendeh/SCRIPTS/simpleNN_basal_melt/AIAI_data/Masks/OPM016_geom_vars.nc\n",
      "You have loaded: /bettik/ockendeh/SCRIPTS/simpleNN_basal_melt/AIAI_data/Masks/OPM016_geometric_masks.nc\n",
      "Ice shelves joined, as requested\n"
     ]
    }
   ],
   "source": [
    "# Load in the closed_cavitites mask, and the slopes \n",
    "filepath_mask = filepath_base +  'AIAI_data/Masks/'+nemo_run+'_'+'geometric_masks.nc'\n",
    "# A geometry file with the required variables for the NN \n",
    "filepath_geomvars = filepath_base + 'AIAI_data/Masks/'+nemo_run+'_'+'geom_vars.nc'\n",
    "masks, basins_merged, geoms = load_geom_files(filepath_geomvars, filepath_mask, join_ice_shelves = True)\n",
    "\n",
    "basin_nos_temp = np.unique(basins_merged)\n",
    "count = np.zeros(len(basin_nos_temp))\n",
    "for i in range(len(basin_nos_temp)):\n",
    "    count[i] = np.sum((basins_merged*masks.closed_cavities_nan) == basin_nos_temp[i])\n",
    "mask_keep_nos = count != 0\n",
    "basin_nos = basin_nos_temp[mask_keep_nos]"
   ]
  },
  {
   "cell_type": "code",
   "execution_count": 10,
   "id": "8964c68e-e9cb-4b93-b3e6-1c90acc4e20e",
   "metadata": {},
   "outputs": [
    {
     "name": "stdout",
     "output_type": "stream",
     "text": [
      "You will save output to:\n",
      "/bettik/ockendeh/SCRIPTS/simpleNN_basal_melt/AIAI_data/Training_data/OPM016_whole_dataset_not_yet_normalised.csv\n"
     ]
    }
   ],
   "source": [
    "print('You will save output to:')\n",
    "print(intermediate_filepath)"
   ]
  },
  {
   "cell_type": "code",
   "execution_count": 11,
   "id": "087ee246-ea05-412f-8326-ab492d6ba932",
   "metadata": {},
   "outputs": [
    {
     "name": "stdout",
     "output_type": "stream",
     "text": [
      "You have saved:                  \n",
      "/bettik/ockendeh/SCRIPTS/simpleNN_basal_melt/AIAI_data/Training_data/OPM016_whole_dataset_not_yet_normalised.csv\n"
     ]
    }
   ],
   "source": [
    "merge = True\n",
    "if merge == True:\n",
    "    years_to_merge = years_run\n",
    "    for i in range(len(years_to_merge)):\n",
    "        if i == 0:\n",
    "            year = years_run[0]\n",
    "            df_total = create_df_total(nemo_run, year, month = np.nan)\n",
    "        else:\n",
    "            year = years_run[i]\n",
    "            df_ij = create_df_total(nemo_run, year, month = np.nan)\n",
    "            df_total2 = pd.concat([df_total, df_ij], ignore_index=True)\n",
    "            df_total = df_total2\n",
    "        print(i+1, 'out of', len(years_to_merge), 'processed', end = '\\r')   \n",
    "    \n",
    "    intermediate_save = True\n",
    "    if intermediate_save == True:\n",
    "        df_total.to_csv(intermediate_filepath, index = False)\n",
    "        print('You have saved:                  ')\n",
    "        print(intermediate_filepath)"
   ]
  },
  {
   "cell_type": "code",
   "execution_count": null,
   "id": "6412f2cf-eb35-4c32-92ee-b02d0e7d40f7",
   "metadata": {},
   "outputs": [],
   "source": []
  },
  {
   "cell_type": "code",
   "execution_count": 12,
   "id": "2b444f8b-ed84-4da4-9cdf-f546cf85782f",
   "metadata": {},
   "outputs": [],
   "source": [
    "df = pd.read_csv(intermediate_filepath, nrows = 5)"
   ]
  },
  {
   "cell_type": "code",
   "execution_count": 13,
   "id": "b6851853-e127-4078-a228-ae24dcab66d8",
   "metadata": {},
   "outputs": [
    {
     "data": {
      "text/html": [
       "<div>\n",
       "<style scoped>\n",
       "    .dataframe tbody tr th:only-of-type {\n",
       "        vertical-align: middle;\n",
       "    }\n",
       "\n",
       "    .dataframe tbody tr th {\n",
       "        vertical-align: top;\n",
       "    }\n",
       "\n",
       "    .dataframe thead th {\n",
       "        text-align: right;\n",
       "    }\n",
       "</style>\n",
       "<table border=\"1\" class=\"dataframe\">\n",
       "  <thead>\n",
       "    <tr style=\"text-align: right;\">\n",
       "      <th></th>\n",
       "      <th>lat</th>\n",
       "      <th>lon</th>\n",
       "      <th>temperature_prop</th>\n",
       "      <th>salinity_prop</th>\n",
       "      <th>melt_m_ice_per_y</th>\n",
       "      <th>mean_T</th>\n",
       "      <th>mean_S</th>\n",
       "      <th>std_T</th>\n",
       "      <th>std_S</th>\n",
       "      <th>year</th>\n",
       "      <th>...</th>\n",
       "      <th>area</th>\n",
       "      <th>bathymetry</th>\n",
       "      <th>slope_is_lon</th>\n",
       "      <th>slope_is_lat</th>\n",
       "      <th>slope_ba_lon</th>\n",
       "      <th>slope_ba_lat</th>\n",
       "      <th>slope_is_across_front</th>\n",
       "      <th>slope_is_towards_front</th>\n",
       "      <th>slope_ba_across_front</th>\n",
       "      <th>slope_ba_towards_front</th>\n",
       "    </tr>\n",
       "  </thead>\n",
       "  <tbody>\n",
       "    <tr>\n",
       "      <th>0</th>\n",
       "      <td>-85.396736</td>\n",
       "      <td>-152.77846</td>\n",
       "      <td>-2.286313</td>\n",
       "      <td>34.661682</td>\n",
       "      <td>-2.101623e-06</td>\n",
       "      <td>-2.288233</td>\n",
       "      <td>34.652754</td>\n",
       "      <td>0.016509</td>\n",
       "      <td>0.024279</td>\n",
       "      <td>1980</td>\n",
       "      <td>...</td>\n",
       "      <td>1.690724e+07</td>\n",
       "      <td>1016.045532</td>\n",
       "      <td>-0.002668</td>\n",
       "      <td>0.000000</td>\n",
       "      <td>0.005232</td>\n",
       "      <td>0.000000</td>\n",
       "      <td>-0.002246</td>\n",
       "      <td>0.001441</td>\n",
       "      <td>0.004404</td>\n",
       "      <td>-0.002826</td>\n",
       "    </tr>\n",
       "    <tr>\n",
       "      <th>1</th>\n",
       "      <td>-85.368385</td>\n",
       "      <td>-154.12903</td>\n",
       "      <td>-2.286313</td>\n",
       "      <td>34.661682</td>\n",
       "      <td>1.022691e-06</td>\n",
       "      <td>-2.288233</td>\n",
       "      <td>34.652754</td>\n",
       "      <td>0.016509</td>\n",
       "      <td>0.024279</td>\n",
       "      <td>1980</td>\n",
       "      <td>...</td>\n",
       "      <td>1.702015e+07</td>\n",
       "      <td>936.733459</td>\n",
       "      <td>0.000000</td>\n",
       "      <td>0.014019</td>\n",
       "      <td>0.008542</td>\n",
       "      <td>0.013076</td>\n",
       "      <td>0.007571</td>\n",
       "      <td>0.011799</td>\n",
       "      <td>0.014251</td>\n",
       "      <td>0.006392</td>\n",
       "    </tr>\n",
       "    <tr>\n",
       "      <th>2</th>\n",
       "      <td>-85.365005</td>\n",
       "      <td>-153.69621</td>\n",
       "      <td>-2.286313</td>\n",
       "      <td>34.661682</td>\n",
       "      <td>-4.602770e-06</td>\n",
       "      <td>-2.288233</td>\n",
       "      <td>34.652754</td>\n",
       "      <td>0.016509</td>\n",
       "      <td>0.024279</td>\n",
       "      <td>1980</td>\n",
       "      <td>...</td>\n",
       "      <td>1.700046e+07</td>\n",
       "      <td>1038.535767</td>\n",
       "      <td>-0.002427</td>\n",
       "      <td>0.014427</td>\n",
       "      <td>-0.000525</td>\n",
       "      <td>0.019728</td>\n",
       "      <td>0.005748</td>\n",
       "      <td>0.013453</td>\n",
       "      <td>0.010211</td>\n",
       "      <td>0.016887</td>\n",
       "    </tr>\n",
       "    <tr>\n",
       "      <th>3</th>\n",
       "      <td>-85.361430</td>\n",
       "      <td>-153.26420</td>\n",
       "      <td>-2.286313</td>\n",
       "      <td>34.661682</td>\n",
       "      <td>-4.521903e-06</td>\n",
       "      <td>-2.288233</td>\n",
       "      <td>34.652754</td>\n",
       "      <td>0.016509</td>\n",
       "      <td>0.024279</td>\n",
       "      <td>1980</td>\n",
       "      <td>...</td>\n",
       "      <td>1.698055e+07</td>\n",
       "      <td>1090.237427</td>\n",
       "      <td>-0.002786</td>\n",
       "      <td>-0.005718</td>\n",
       "      <td>-0.003756</td>\n",
       "      <td>0.002972</td>\n",
       "      <td>-0.005432</td>\n",
       "      <td>-0.003308</td>\n",
       "      <td>-0.001556</td>\n",
       "      <td>0.004530</td>\n",
       "    </tr>\n",
       "    <tr>\n",
       "      <th>4</th>\n",
       "      <td>-85.357635</td>\n",
       "      <td>-152.83304</td>\n",
       "      <td>-2.286313</td>\n",
       "      <td>34.661682</td>\n",
       "      <td>-9.424575e-07</td>\n",
       "      <td>-2.288233</td>\n",
       "      <td>34.652754</td>\n",
       "      <td>0.016509</td>\n",
       "      <td>0.024279</td>\n",
       "      <td>1980</td>\n",
       "      <td>...</td>\n",
       "      <td>1.696043e+07</td>\n",
       "      <td>1061.649902</td>\n",
       "      <td>0.000000</td>\n",
       "      <td>-0.006122</td>\n",
       "      <td>0.002730</td>\n",
       "      <td>-0.013073</td>\n",
       "      <td>-0.003306</td>\n",
       "      <td>-0.005152</td>\n",
       "      <td>-0.004763</td>\n",
       "      <td>-0.012477</td>\n",
       "    </tr>\n",
       "  </tbody>\n",
       "</table>\n",
       "<p>5 rows × 26 columns</p>\n",
       "</div>"
      ],
      "text/plain": [
       "         lat        lon  temperature_prop  salinity_prop  melt_m_ice_per_y  \\\n",
       "0 -85.396736 -152.77846         -2.286313      34.661682     -2.101623e-06   \n",
       "1 -85.368385 -154.12903         -2.286313      34.661682      1.022691e-06   \n",
       "2 -85.365005 -153.69621         -2.286313      34.661682     -4.602770e-06   \n",
       "3 -85.361430 -153.26420         -2.286313      34.661682     -4.521903e-06   \n",
       "4 -85.357635 -152.83304         -2.286313      34.661682     -9.424575e-07   \n",
       "\n",
       "     mean_T     mean_S     std_T     std_S  year  ...          area  \\\n",
       "0 -2.288233  34.652754  0.016509  0.024279  1980  ...  1.690724e+07   \n",
       "1 -2.288233  34.652754  0.016509  0.024279  1980  ...  1.702015e+07   \n",
       "2 -2.288233  34.652754  0.016509  0.024279  1980  ...  1.700046e+07   \n",
       "3 -2.288233  34.652754  0.016509  0.024279  1980  ...  1.698055e+07   \n",
       "4 -2.288233  34.652754  0.016509  0.024279  1980  ...  1.696043e+07   \n",
       "\n",
       "    bathymetry  slope_is_lon  slope_is_lat  slope_ba_lon  slope_ba_lat  \\\n",
       "0  1016.045532     -0.002668      0.000000      0.005232      0.000000   \n",
       "1   936.733459      0.000000      0.014019      0.008542      0.013076   \n",
       "2  1038.535767     -0.002427      0.014427     -0.000525      0.019728   \n",
       "3  1090.237427     -0.002786     -0.005718     -0.003756      0.002972   \n",
       "4  1061.649902      0.000000     -0.006122      0.002730     -0.013073   \n",
       "\n",
       "   slope_is_across_front  slope_is_towards_front  slope_ba_across_front  \\\n",
       "0              -0.002246                0.001441               0.004404   \n",
       "1               0.007571                0.011799               0.014251   \n",
       "2               0.005748                0.013453               0.010211   \n",
       "3              -0.005432               -0.003308              -0.001556   \n",
       "4              -0.003306               -0.005152              -0.004763   \n",
       "\n",
       "   slope_ba_towards_front  \n",
       "0               -0.002826  \n",
       "1                0.006392  \n",
       "2                0.016887  \n",
       "3                0.004530  \n",
       "4               -0.012477  \n",
       "\n",
       "[5 rows x 26 columns]"
      ]
     },
     "execution_count": 13,
     "metadata": {},
     "output_type": "execute_result"
    }
   ],
   "source": [
    "df"
   ]
  },
  {
   "cell_type": "code",
   "execution_count": 14,
   "id": "65597681-8fd7-4185-a4d8-5558523054e7",
   "metadata": {},
   "outputs": [],
   "source": [
    "df = pd.read_csv(intermediate_filepath)"
   ]
  },
  {
   "cell_type": "code",
   "execution_count": 15,
   "id": "2b9609bc-9009-4586-85c7-ceb972249231",
   "metadata": {},
   "outputs": [
    {
     "data": {
      "text/plain": [
       "(array([5.0000e+00, 1.0000e+01, 2.0000e+00, 5.0000e+00, 1.0000e+01,\n",
       "        1.0000e+01, 2.1000e+01, 4.3000e+01, 5.7000e+01, 8.4000e+01,\n",
       "        9.9000e+01, 2.2200e+02, 3.3000e+02, 3.7900e+02, 5.6600e+02,\n",
       "        8.4600e+02, 1.5050e+03, 3.7600e+03, 1.0007e+04, 1.3948e+04,\n",
       "        1.0502e+04, 1.1141e+04, 1.0117e+04, 1.0742e+04, 1.1967e+04,\n",
       "        1.2526e+04, 1.3990e+04, 1.6894e+04, 2.3476e+04, 2.6878e+04,\n",
       "        2.4969e+04, 2.7040e+04, 2.5507e+04, 2.4073e+04, 1.7134e+04,\n",
       "        1.6673e+04, 8.7430e+03, 3.0030e+03, 1.1060e+03, 4.1200e+02]),\n",
       " array([32.81495667, 32.86458836, 32.91422005, 32.96385174, 33.01348343,\n",
       "        33.06311512, 33.11274681, 33.1623785 , 33.21201019, 33.26164188,\n",
       "        33.31127357, 33.36090527, 33.41053696, 33.46016865, 33.50980034,\n",
       "        33.55943203, 33.60906372, 33.65869541, 33.7083271 , 33.75795879,\n",
       "        33.80759048, 33.85722218, 33.90685387, 33.95648556, 34.00611725,\n",
       "        34.05574894, 34.10538063, 34.15501232, 34.20464401, 34.2542757 ,\n",
       "        34.30390739, 34.35353909, 34.40317078, 34.45280247, 34.50243416,\n",
       "        34.55206585, 34.60169754, 34.65132923, 34.70096092, 34.75059261,\n",
       "        34.8002243 ]),\n",
       " <BarContainer object of 40 artists>)"
      ]
     },
     "execution_count": 15,
     "metadata": {},
     "output_type": "execute_result"
    },
    {
     "data": {
      "image/png": "[encoded data removed]",
      "text/plain": [
       "<Figure size 640x480 with 1 Axes>"
      ]
     },
     "metadata": {},
     "output_type": "display_data"
    }
   ],
   "source": [
    "import matplotlib.pyplot as plt\n",
    "plt.hist(df.salinity_prop, bins = 40)"
   ]
  },
  {
   "cell_type": "code",
   "execution_count": null,
   "id": "63a9316f-ad79-4766-8d18-2593f0b6cfcf",
   "metadata": {},
   "outputs": [],
   "source": []
  },
  {
   "cell_type": "code",
   "execution_count": null,
   "id": "e35a875d-8ccf-4912-924b-7750a6469236",
   "metadata": {},
   "outputs": [],
   "source": []
  },
  {
   "cell_type": "code",
   "execution_count": null,
   "id": "586df2b6-fc7c-4ed4-8022-2f8bd9bffbfc",
   "metadata": {},
   "outputs": [],
   "source": []
  }
 ],
 "metadata": {
  "kernelspec": {
   "display_name": "nnets_py38",
   "language": "python",
   "name": "nnets_py38"
  },
  "language_info": {
   "codemirror_mode": {
    "name": "ipython",
    "version": 3
   },
   "file_extension": ".py",
   "mimetype": "text/x-python",
   "name": "python",
   "nbconvert_exporter": "python",
   "pygments_lexer": "ipython3",
   "version": "3.12.2"
  }
 },
 "nbformat": 4,
 "nbformat_minor": 5
}
